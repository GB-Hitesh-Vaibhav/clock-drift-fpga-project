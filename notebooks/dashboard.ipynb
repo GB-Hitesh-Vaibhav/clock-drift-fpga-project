{
 "cells": [
  {
   "cell_type": "code",
   "execution_count": null,
   "id": "4859bec7",
   "metadata": {},
   "outputs": [],
   "source": []
  },
  {
   "cell_type": "code",
   "execution_count": null,
   "id": "7c06e298",
   "metadata": {},
   "outputs": [
    {
     "name": "stdout",
     "output_type": "stream",
     "text": [
      "[ERROR] Required CSV files not found.\n",
      "[Errno 2] No such file or directory: 'data/normal_orders.csv'\n"
     ]
    },
    {
     "ename": "NameError",
     "evalue": "name 'normal_orders' is not defined",
     "output_type": "error",
     "traceback": [
      "\u001b[31m---------------------------------------------------------------------------\u001b[39m",
      "\u001b[31mNameError\u001b[39m                                 Traceback (most recent call last)",
      "\u001b[36mCell\u001b[39m\u001b[36m \u001b[39m\u001b[32mIn[12]\u001b[39m\u001b[32m, line 20\u001b[39m\n\u001b[32m     17\u001b[39m     exit()\n\u001b[32m     19\u001b[39m \u001b[38;5;66;03m# 🧪 Detect anomalies: out-of-order order_ids\u001b[39;00m\n\u001b[32m---> \u001b[39m\u001b[32m20\u001b[39m normal_sequence = \u001b[38;5;28mlist\u001b[39m(\u001b[43mnormal_orders\u001b[49m[\u001b[33m\"\u001b[39m\u001b[33morder_id\u001b[39m\u001b[33m\"\u001b[39m])\n\u001b[32m     21\u001b[39m drifted_sequence = \u001b[38;5;28mlist\u001b[39m(drifted_orders[\u001b[33m\"\u001b[39m\u001b[33morder_id\u001b[39m\u001b[33m\"\u001b[39m])\n\u001b[32m     23\u001b[39m anomalies = []\n",
      "\u001b[31mNameError\u001b[39m: name 'normal_orders' is not defined"
     ]
    },
    {
     "ename": "",
     "evalue": "",
     "output_type": "error",
     "traceback": [
      "\u001b[1;31mThe Kernel crashed while executing code in the current cell or a previous cell. \n",
      "\u001b[1;31mPlease review the code in the cell(s) to identify a possible cause of the failure. \n",
      "\u001b[1;31mClick <a href='https://aka.ms/vscodeJupyterKernelCrash'>here</a> for more info. \n",
      "\u001b[1;31mView Jupyter <a href='command:jupyter.viewOutput'>log</a> for further details."
     ]
    }
   ],
   "source": [
    "import os\n",
    "import pandas as pd\n",
    "import matplotlib.pyplot as plt\n",
    "import seaborn as sns\n",
    "\n",
    "# 📁 Ensure folders exist\n",
    "os.makedirs(\"output\", exist_ok=True)\n",
    "os.makedirs(\"output/plots\", exist_ok=True)\n",
    "\n",
    "# 📥 Load order files\n",
    "normal_orders = pd.read_csv(\"data/normal_orders.csv\")\n",
    "drifted_orders = pd.read_csv(\"data/drifted_orders.csv\")\n",
    "\n",
    "# 🧪 Detect anomalies: out-of-order order_ids\n",
    "normal_sequence = list(normal_orders[\"order_id\"])\n",
    "drifted_sequence = list(drifted_orders[\"order_id\"])\n",
    "\n",
    "anomalies = []\n",
    "last_id = -1\n",
    "\n",
    "for i, oid in enumerate(drifted_sequence):\n",
    "    if oid < last_id:\n",
    "        anomalies.append({\n",
    "            \"position_in_stream\": i,\n",
    "            \"current_order_id\": oid,\n",
    "            \"previous_order_id\": last_id\n",
    "        })\n",
    "    last_id = oid\n",
    "\n",
    "# ✅ Always include columns, even if anomalies is empty\n",
    "anomaly_df = pd.DataFrame(anomalies, columns=[\"position_in_stream\", \"current_order_id\", \"previous_order_id\"])\n",
    "\n",
    "# 📤 Save anomaly log\n",
    "anomaly_df.to_csv(\"output/anomaly_log.csv\", index=False)\n",
    "\n",
    "print(f\"[OK] Anomaly detection completed. {len(anomalies)} out-of-order violations detected.\")\n",
    "print(\"Anomaly log saved to: output/anomaly_log.csv\")\n",
    "\n",
    "# 🛑 Skip heatmap if no anomalies\n",
    "if anomaly_df.empty:\n",
    "    print(\"[WARN] No anomalies found. Skipping heatmap generation.\")\n",
    "else:\n",
    "    # 📊 Heatmap Visualization\n",
    "    plt.figure(figsize=(12, 5))\n",
    "    sns.heatmap(\n",
    "        anomaly_df[[\"position_in_stream\", \"current_order_id\"]].T,\n",
    "        cmap=\"Reds\", cbar=True, annot=True, fmt=\".0f\"\n",
    "    )\n",
    "    plt.title(\"Anomaly Heatmap (Order ID Violations due to Clock Drift)\")\n",
    "    plt.yticks([0.5, 1.5], ['Position in Stream', 'Order ID'], rotation=0)\n",
    "    plt.tight_layout()\n",
    "    plt.savefig(\"output/plots/anomaly_heatmap.png\")\n",
    "    plt.close()\n",
    "    print(\"Anomaly heatmap saved to: output/plots/anomaly_heatmap.png\")"
   ]
  },
  {
   "cell_type": "code",
   "execution_count": null,
   "id": "98bdf652",
   "metadata": {},
   "outputs": [
    {
     "name": "stdout",
     "output_type": "stream",
     "text": [
      "[ERROR] Required CSV files not found.\n",
      "[Errno 2] No such file or directory: 'data/normal_orders.csv'\n"
     ]
    },
    {
     "ename": "NameError",
     "evalue": "name 'normal_orders' is not defined",
     "output_type": "error",
     "traceback": [
      "\u001b[31m---------------------------------------------------------------------------\u001b[39m\n",
      "\u001b[31mNameError\u001b[39m                                 Traceback (most recent call last)\n",
      "\u001b[36mCell\u001b[39m\u001b[36m \u001b[39m\u001b[32mIn[12]\u001b[39m\u001b[32m, line 20\u001b[39m\n",
      "\u001b[32m     17\u001b[39m     exit()\n",
      "\u001b[32m     19\u001b[39m \u001b[38;5;66;03m# 🧪 Detect anomalies: out-of-order order_ids\u001b[39;00m\n",
      "\u001b[32m---> \u001b[39m\u001b[32m20\u001b[39m normal_sequence = \u001b[38;5;28mlist\u001b[39m(\u001b[43mnormal_orders\u001b[49m[\u001b[33m\"\u001b[39m\u001b[33morder_id\u001b[39m\u001b[33m\"\u001b[39m])\n",
      "\u001b[32m     21\u001b[39m drifted_sequence = \u001b[38;5;28mlist\u001b[39m(drifted_orders[\u001b[33m\"\u001b[39m\u001b[33morder_id\u001b[39m\u001b[33m\"\u001b[39m])\n",
      "\u001b[32m     23\u001b[39m anomalies = []\n",
      "\n",
      "\u001b[31mNameError\u001b[39m: name 'normal_orders' is not defined"
     ]
    },
    {
     "ename": "",
     "evalue": "",
     "output_type": "error",
     "traceback": [
      "\u001b[1;31mThe Kernel crashed while executing code in the current cell or a previous cell. \n",
      "\u001b[1;31mPlease review the code in the cell(s) to identify a possible cause of the failure. \n",
      "\u001b[1;31mClick <a href='https://aka.ms/vscodeJupyterKernelCrash'>here</a> for more info. \n",
      "\u001b[1;31mView Jupyter <a href='command:jupyter.viewOutput'>log</a> for further details."
     ]
    }
   ],
   "source": [
    "import os\n",
    "import pandas as pd\n",
    "import matplotlib.pyplot as plt\n",
    "import seaborn as sns\n",
    "\n",
    "# 📁 Ensure folders exist\n",
    "os.makedirs(\"output\", exist_ok=True)\n",
    "os.makedirs(\"output/plots\", exist_ok=True)\n",
    "\n",
    "# 📥 Load order files\n",
    "try:\n",
    "    normal_orders = pd.read_csv(\"data/normal_orders.csv\")\n",
    "    drifted_orders = pd.read_csv(\"data/drifted_orders.csv\")\n",
    "except FileNotFoundError as e:\n",
    "    print(\"[ERROR] Required CSV files not found.\")\n",
    "    print(e)\n",
    "    exit()\n",
    "\n",
    "# 🧪 Detect anomalies: out-of-order order_ids\n",
    "normal_sequence = list(normal_orders[\"order_id\"])\n",
    "drifted_sequence = list(drifted_orders[\"order_id\"])\n",
    "\n",
    "anomalies = []\n",
    "last_id = -1\n",
    "\n",
    "for i, oid in enumerate(drifted_sequence):\n",
    "    if oid < last_id:\n",
    "        anomalies.append({\n",
    "            \"position_in_stream\": i,\n",
    "            \"current_order_id\": oid,\n",
    "            \"previous_order_id\": last_id\n",
    "        })\n",
    "    last_id = oid\n",
    "\n",
    "# ✅ Always include columns, even if anomalies is empty\n",
    "anomaly_df = pd.DataFrame(anomalies, columns=[\"position_in_stream\", \"current_order_id\", \"previous_order_id\"])\n",
    "\n",
    "# 📤 Save anomaly log\n",
    "anomaly_df.to_csv(\"output/anomaly_log.csv\", index=False)\n",
    "\n",
    "print(f\"[OK] Anomaly detection completed. {len(anomalies)} out-of-order violations detected.\")\n",
    "print(\"Anomaly log saved to: output/anomaly_log.csv\")\n",
    "\n",
    "# 🛑 Skip heatmap if no anomalies\n",
    "if anomaly_df.empty:\n",
    "    print(\"[WARN] No anomalies found. Skipping heatmap generation.\")\n",
    "else:\n",
    "    # 📊 Heatmap Visualization\n",
    "    plt.figure(figsize=(12, 5))\n",
    "    sns.heatmap(\n",
    "        anomaly_df[[\"position_in_stream\", \"current_order_id\"]].T,\n",
    "        cmap=\"Reds\", cbar=True, annot=True, fmt=\".0f\"\n",
    "    )\n",
    "    plt.title(\"Anomaly Heatmap (Order ID Violations due to Clock Drift)\")\n",
    "    plt.yticks([0.5, 1.5], ['Position in Stream', 'Order ID'], rotation=0)\n",
    "    plt.tight_layout()\n",
    "    plt.savefig(\"output/plots/anomaly_heatmap.png\")\n",
    "    plt.close()\n",
    "    print(\"Anomaly heatmap saved to: output/plots/anomaly_heatmap.png\")\n"
   ]
  }
 ],
 "metadata": {
  "kernelspec": {
   "display_name": "venv",
   "language": "python",
   "name": "python3"
  },
  "language_info": {
   "codemirror_mode": {
    "name": "ipython",
    "version": 3
   },
   "file_extension": ".py",
   "mimetype": "text/x-python",
   "name": "python",
   "nbconvert_exporter": "python",
   "pygments_lexer": "ipython3",
   "version": "3.13.5"
  }
 },
 "nbformat": 4,
 "nbformat_minor": 5
}
